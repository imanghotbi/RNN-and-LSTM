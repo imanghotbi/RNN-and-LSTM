{
  "nbformat": 4,
  "nbformat_minor": 0,
  "metadata": {
    "colab": {
      "provenance": []
    },
    "kernelspec": {
      "name": "python3",
      "display_name": "Python 3"
    },
    "accelerator": "GPU"
  },
  "cells": [
    {
      "cell_type": "code",
      "metadata": {
        "id": "YO_Hrk39VV92",
        "colab": {
          "base_uri": "https://localhost:8080/",
          "height": 34
        },
        "outputId": "8bc5ab53-d665-4d6f-9a8d-9b2a0675e987"
      },
      "source": [
        "import numpy as np\n",
        "import pandas as pd\n",
        "import matplotlib.pyplot as plt\n",
        "from sklearn.metrics import mean_absolute_error as mae\n",
        "from sklearn.preprocessing import StandardScaler\n",
        "\n",
        "from keras.models import Model\n",
        "from keras.layers import Input, LSTM, GRU, SimpleRNN, Dense\n",
        "import keras.backend as K\n",
        "from keras.optimizers import SGD, Adam"
      ],
      "execution_count": null,
      "outputs": [
        {
          "output_type": "stream",
          "text": [
            "Using TensorFlow backend.\n"
          ],
          "name": "stderr"
        }
      ]
    },
    {
      "cell_type": "code",
      "metadata": {
        "id": "M2TK2V7aVba1"
      },
      "source": [
        "# get the data\n",
        "df = pd.read_csv('https://raw.githubusercontent.com/lazyprogrammer/machine_learning_examples/master/tf2.0/sbux.csv')"
      ],
      "execution_count": null,
      "outputs": []
    },
    {
      "cell_type": "code",
      "metadata": {
        "id": "oddpS2giVe3e",
        "colab": {
          "base_uri": "https://localhost:8080/",
          "height": 204
        },
        "outputId": "6a500562-ce22-4549-cc5c-721a34920d3f"
      },
      "source": [
        "df.head()"
      ],
      "execution_count": null,
      "outputs": [
        {
          "output_type": "execute_result",
          "data": {
            "text/html": [
              "<div>\n",
              "<style scoped>\n",
              "    .dataframe tbody tr th:only-of-type {\n",
              "        vertical-align: middle;\n",
              "    }\n",
              "\n",
              "    .dataframe tbody tr th {\n",
              "        vertical-align: top;\n",
              "    }\n",
              "\n",
              "    .dataframe thead th {\n",
              "        text-align: right;\n",
              "    }\n",
              "</style>\n",
              "<table border=\"1\" class=\"dataframe\">\n",
              "  <thead>\n",
              "    <tr style=\"text-align: right;\">\n",
              "      <th></th>\n",
              "      <th>date</th>\n",
              "      <th>open</th>\n",
              "      <th>high</th>\n",
              "      <th>low</th>\n",
              "      <th>close</th>\n",
              "      <th>volume</th>\n",
              "      <th>Name</th>\n",
              "    </tr>\n",
              "  </thead>\n",
              "  <tbody>\n",
              "    <tr>\n",
              "      <th>0</th>\n",
              "      <td>2013-02-08</td>\n",
              "      <td>27.920</td>\n",
              "      <td>28.325</td>\n",
              "      <td>27.920</td>\n",
              "      <td>28.185</td>\n",
              "      <td>7146296</td>\n",
              "      <td>SBUX</td>\n",
              "    </tr>\n",
              "    <tr>\n",
              "      <th>1</th>\n",
              "      <td>2013-02-11</td>\n",
              "      <td>28.260</td>\n",
              "      <td>28.260</td>\n",
              "      <td>27.930</td>\n",
              "      <td>28.070</td>\n",
              "      <td>5457354</td>\n",
              "      <td>SBUX</td>\n",
              "    </tr>\n",
              "    <tr>\n",
              "      <th>2</th>\n",
              "      <td>2013-02-12</td>\n",
              "      <td>28.000</td>\n",
              "      <td>28.275</td>\n",
              "      <td>27.975</td>\n",
              "      <td>28.130</td>\n",
              "      <td>8665592</td>\n",
              "      <td>SBUX</td>\n",
              "    </tr>\n",
              "    <tr>\n",
              "      <th>3</th>\n",
              "      <td>2013-02-13</td>\n",
              "      <td>28.230</td>\n",
              "      <td>28.230</td>\n",
              "      <td>27.750</td>\n",
              "      <td>27.915</td>\n",
              "      <td>7022056</td>\n",
              "      <td>SBUX</td>\n",
              "    </tr>\n",
              "    <tr>\n",
              "      <th>4</th>\n",
              "      <td>2013-02-14</td>\n",
              "      <td>27.765</td>\n",
              "      <td>27.905</td>\n",
              "      <td>27.675</td>\n",
              "      <td>27.775</td>\n",
              "      <td>8899188</td>\n",
              "      <td>SBUX</td>\n",
              "    </tr>\n",
              "  </tbody>\n",
              "</table>\n",
              "</div>"
            ],
            "text/plain": [
              "         date    open    high     low   close   volume  Name\n",
              "0  2013-02-08  27.920  28.325  27.920  28.185  7146296  SBUX\n",
              "1  2013-02-11  28.260  28.260  27.930  28.070  5457354  SBUX\n",
              "2  2013-02-12  28.000  28.275  27.975  28.130  8665592  SBUX\n",
              "3  2013-02-13  28.230  28.230  27.750  27.915  7022056  SBUX\n",
              "4  2013-02-14  27.765  27.905  27.675  27.775  8899188  SBUX"
            ]
          },
          "metadata": {
            "tags": []
          },
          "execution_count": 3
        }
      ]
    },
    {
      "cell_type": "code",
      "metadata": {
        "id": "eTjnv3M2VhvJ"
      },
      "source": [
        "# get the close price\n",
        "series = df['close'].values.reshape(-1, 1)"
      ],
      "execution_count": null,
      "outputs": []
    },
    {
      "cell_type": "code",
      "metadata": {
        "id": "AuDhY_EPVjof"
      },
      "source": [
        "# Normalize the data\n",
        "# Note: I didn't think about where the true boundary is, this is just approx.\n",
        "scaler = StandardScaler()\n",
        "scaler.fit(series[:len(series) // 2])\n",
        "series = scaler.transform(series).flatten()"
      ],
      "execution_count": null,
      "outputs": []
    },
    {
      "cell_type": "code",
      "metadata": {
        "id": "2EnRkJiPVmZl",
        "colab": {
          "base_uri": "https://localhost:8080/",
          "height": 269
        },
        "outputId": "e426974d-9ca2-4196-f8d4-b7709791e2b6"
      },
      "source": [
        "# plot it\n",
        "plt.plot(series)\n",
        "plt.show()"
      ],
      "execution_count": null,
      "outputs": [
        {
          "output_type": "display_data",
          "data": {
            "image/png": "[encoded data removed]",
            "text/plain": [
              "<Figure size 432x288 with 1 Axes>"
            ]
          },
          "metadata": {
            "tags": []
          }
        }
      ]
    },
    {
      "cell_type": "code",
      "metadata": {
        "id": "Dp4Hj93xVm64",
        "colab": {
          "base_uri": "https://localhost:8080/",
          "height": 34
        },
        "outputId": "5fa7095a-2493-49b4-e128-1a53759d51d6"
      },
      "source": [
        "### build the dataset\n",
        "# let's see if we can use T past values to predict the next value\n",
        "T = 10\n",
        "D = 1\n",
        "X = []\n",
        "Y = []\n",
        "for t in range(len(series) - T):\n",
        "  x = series[t:t+T]\n",
        "  X.append(x)\n",
        "  y = series[t+T]\n",
        "  Y.append(y)\n",
        "\n",
        "X = np.array(X).reshape(-1, T, 1)\n",
        "Y = np.array(Y)\n",
        "N = len(X)\n",
        "print(\"X.shape\", X.shape, \"Y.shape\", Y.shape)"
      ],
      "execution_count": null,
      "outputs": [
        {
          "output_type": "stream",
          "text": [
            "X.shape (1249, 10, 1) Y.shape (1249,)\n"
          ],
          "name": "stdout"
        }
      ]
    },
    {
      "cell_type": "code",
      "metadata": {
        "id": "iT55s2ppV1Hz"
      },
      "source": [
        "# split into train and test\n",
        "Xtrain, Ytrain = X[:-N//2], Y[:-N//2]\n",
        "Xtest, Ytest = X[-N//2:], Y[-N//2:]"
      ],
      "execution_count": null,
      "outputs": []
    },
    {
      "cell_type": "code",
      "metadata": {
        "id": "cV8tk843VsXH"
      },
      "source": [
        "### try autoregressive RNN model\n",
        "i = Input(shape=(T, 1))\n",
        "\n",
        "# multiple LSTMs\n",
        "# x = LSTM(5, return_sequences=True)(i)\n",
        "# x = LSTM(5, return_sequences=True)(x)\n",
        "# x = LSTM(5)(x)\n",
        "\n",
        "# one LSTM\n",
        "x = LSTM(5)(i)\n",
        "\n",
        "x = Dense(1)(x)\n",
        "model = Model(i, x)\n",
        "model.compile(\n",
        "  loss='mse',\n",
        "  optimizer=Adam(lr=0.01),\n",
        ")"
      ],
      "execution_count": null,
      "outputs": []
    },
    {
      "cell_type": "code",
      "metadata": {
        "id": "DU89ZekoVtwv",
        "colab": {
          "base_uri": "https://localhost:8080/",
          "height": 1000
        },
        "outputId": "380a514a-8991-4b05-cec3-e340fae7347a"
      },
      "source": [
        "# train the RNN\n",
        "r = model.fit(\n",
        "  Xtrain, Ytrain,\n",
        "  epochs=80,\n",
        "  validation_data=(Xtest, Ytest),\n",
        ")"
      ],
      "execution_count": null,
      "outputs": [
        {
          "output_type": "stream",
          "text": [
            "Train on 624 samples, validate on 625 samples\n",
            "Epoch 1/80\n",
            "624/624 [==============================] - 4s 6ms/step - loss: 0.7804 - val_loss: 1.6897\n",
            "Epoch 2/80\n",
            "624/624 [==============================] - 1s 1ms/step - loss: 0.1240 - val_loss: 0.2669\n",
            "Epoch 3/80\n",
            "624/624 [==============================] - 1s 1ms/step - loss: 0.0521 - val_loss: 0.4295\n",
            "Epoch 4/80\n",
            "624/624 [==============================] - 1s 1ms/step - loss: 0.0269 - val_loss: 0.1569\n",
            "Epoch 5/80\n",
            "624/624 [==============================] - 1s 1ms/step - loss: 0.0152 - val_loss: 0.0998\n",
            "Epoch 6/80\n",
            "624/624 [==============================] - 1s 1ms/step - loss: 0.0103 - val_loss: 0.0549\n",
            "Epoch 7/80\n",
            "624/624 [==============================] - 1s 1ms/step - loss: 0.0084 - val_loss: 0.0560\n",
            "Epoch 8/80\n",
            "624/624 [==============================] - 1s 1ms/step - loss: 0.0077 - val_loss: 0.0532\n",
            "Epoch 9/80\n",
            "624/624 [==============================] - 1s 999us/step - loss: 0.0072 - val_loss: 0.0514\n",
            "Epoch 10/80\n",
            "624/624 [==============================] - 1s 1ms/step - loss: 0.0071 - val_loss: 0.0492\n",
            "Epoch 11/80\n",
            "624/624 [==============================] - 1s 1ms/step - loss: 0.0069 - val_loss: 0.0509\n",
            "Epoch 12/80\n",
            "624/624 [==============================] - 1s 1ms/step - loss: 0.0066 - val_loss: 0.0492\n",
            "Epoch 13/80\n",
            "624/624 [==============================] - 1s 1ms/step - loss: 0.0064 - val_loss: 0.0467\n",
            "Epoch 14/80\n",
            "624/624 [==============================] - 1s 1ms/step - loss: 0.0063 - val_loss: 0.0420\n",
            "Epoch 15/80\n",
            "624/624 [==============================] - 1s 1ms/step - loss: 0.0065 - val_loss: 0.0422\n",
            "Epoch 16/80\n",
            "624/624 [==============================] - 1s 1ms/step - loss: 0.0066 - val_loss: 0.0412\n",
            "Epoch 17/80\n",
            "624/624 [==============================] - 1s 1ms/step - loss: 0.0061 - val_loss: 0.0392\n",
            "Epoch 18/80\n",
            "624/624 [==============================] - 1s 1ms/step - loss: 0.0061 - val_loss: 0.0388\n",
            "Epoch 19/80\n",
            "624/624 [==============================] - 1s 1ms/step - loss: 0.0059 - val_loss: 0.0400\n",
            "Epoch 20/80\n",
            "624/624 [==============================] - 1s 1ms/step - loss: 0.0060 - val_loss: 0.0328\n",
            "Epoch 21/80\n",
            "624/624 [==============================] - 1s 1ms/step - loss: 0.0057 - val_loss: 0.0350\n",
            "Epoch 22/80\n",
            "624/624 [==============================] - 1s 1ms/step - loss: 0.0061 - val_loss: 0.0309\n",
            "Epoch 23/80\n",
            "624/624 [==============================] - 1s 1ms/step - loss: 0.0059 - val_loss: 0.0311\n",
            "Epoch 24/80\n",
            "624/624 [==============================] - 1s 1ms/step - loss: 0.0061 - val_loss: 0.0386\n",
            "Epoch 25/80\n",
            "624/624 [==============================] - 1s 1ms/step - loss: 0.0059 - val_loss: 0.0305\n",
            "Epoch 26/80\n",
            "624/624 [==============================] - 1s 1ms/step - loss: 0.0057 - val_loss: 0.0291\n",
            "Epoch 27/80\n",
            "624/624 [==============================] - 1s 1ms/step - loss: 0.0058 - val_loss: 0.0285\n",
            "Epoch 28/80\n",
            "624/624 [==============================] - 1s 1ms/step - loss: 0.0056 - val_loss: 0.0324\n",
            "Epoch 29/80\n",
            "624/624 [==============================] - 1s 1ms/step - loss: 0.0056 - val_loss: 0.0317\n",
            "Epoch 30/80\n",
            "624/624 [==============================] - 1s 1ms/step - loss: 0.0058 - val_loss: 0.0284\n",
            "Epoch 31/80\n",
            "624/624 [==============================] - 1s 1ms/step - loss: 0.0055 - val_loss: 0.0288\n",
            "Epoch 32/80\n",
            "624/624 [==============================] - 1s 1ms/step - loss: 0.0055 - val_loss: 0.0286\n",
            "Epoch 33/80\n",
            "624/624 [==============================] - 1s 1ms/step - loss: 0.0059 - val_loss: 0.0273\n",
            "Epoch 34/80\n",
            "624/624 [==============================] - 1s 1ms/step - loss: 0.0055 - val_loss: 0.0318\n",
            "Epoch 35/80\n",
            "624/624 [==============================] - 1s 1ms/step - loss: 0.0055 - val_loss: 0.0274\n",
            "Epoch 36/80\n",
            "624/624 [==============================] - 1s 1ms/step - loss: 0.0054 - val_loss: 0.0280\n",
            "Epoch 37/80\n",
            "624/624 [==============================] - 1s 1ms/step - loss: 0.0058 - val_loss: 0.0256\n",
            "Epoch 38/80\n",
            "624/624 [==============================] - 1s 1ms/step - loss: 0.0057 - val_loss: 0.0251\n",
            "Epoch 39/80\n",
            "624/624 [==============================] - 1s 1ms/step - loss: 0.0058 - val_loss: 0.0281\n",
            "Epoch 40/80\n",
            "624/624 [==============================] - 1s 1ms/step - loss: 0.0054 - val_loss: 0.0279\n",
            "Epoch 41/80\n",
            "624/624 [==============================] - 1s 1ms/step - loss: 0.0057 - val_loss: 0.0269\n",
            "Epoch 42/80\n",
            "624/624 [==============================] - 1s 1ms/step - loss: 0.0057 - val_loss: 0.0293\n",
            "Epoch 43/80\n",
            "624/624 [==============================] - 1s 1ms/step - loss: 0.0054 - val_loss: 0.0248\n",
            "Epoch 44/80\n",
            "624/624 [==============================] - 1s 1ms/step - loss: 0.0055 - val_loss: 0.0230\n",
            "Epoch 45/80\n",
            "624/624 [==============================] - 1s 1ms/step - loss: 0.0054 - val_loss: 0.0235\n",
            "Epoch 46/80\n",
            "624/624 [==============================] - 1s 1ms/step - loss: 0.0054 - val_loss: 0.0241\n",
            "Epoch 47/80\n",
            "624/624 [==============================] - 1s 1ms/step - loss: 0.0054 - val_loss: 0.0238\n",
            "Epoch 48/80\n",
            "624/624 [==============================] - 1s 1ms/step - loss: 0.0052 - val_loss: 0.0241\n",
            "Epoch 49/80\n",
            "624/624 [==============================] - 1s 1ms/step - loss: 0.0054 - val_loss: 0.0223\n",
            "Epoch 50/80\n",
            "624/624 [==============================] - 1s 1ms/step - loss: 0.0052 - val_loss: 0.0218\n",
            "Epoch 51/80\n",
            "624/624 [==============================] - 1s 1ms/step - loss: 0.0054 - val_loss: 0.0245\n",
            "Epoch 52/80\n",
            "624/624 [==============================] - 1s 1ms/step - loss: 0.0053 - val_loss: 0.0233\n",
            "Epoch 53/80\n",
            "624/624 [==============================] - 1s 1ms/step - loss: 0.0053 - val_loss: 0.0270\n",
            "Epoch 54/80\n",
            "624/624 [==============================] - 1s 1ms/step - loss: 0.0052 - val_loss: 0.0227\n",
            "Epoch 55/80\n",
            "624/624 [==============================] - 1s 1ms/step - loss: 0.0054 - val_loss: 0.0216\n",
            "Epoch 56/80\n",
            "624/624 [==============================] - 1s 1ms/step - loss: 0.0053 - val_loss: 0.0227\n",
            "Epoch 57/80\n",
            "624/624 [==============================] - 1s 1ms/step - loss: 0.0052 - val_loss: 0.0218\n",
            "Epoch 58/80\n",
            "624/624 [==============================] - 1s 1ms/step - loss: 0.0052 - val_loss: 0.0212\n",
            "Epoch 59/80\n",
            "624/624 [==============================] - 1s 990us/step - loss: 0.0053 - val_loss: 0.0219\n",
            "Epoch 60/80\n",
            "624/624 [==============================] - 1s 1ms/step - loss: 0.0054 - val_loss: 0.0220\n",
            "Epoch 61/80\n",
            "624/624 [==============================] - 1s 1ms/step - loss: 0.0054 - val_loss: 0.0204\n",
            "Epoch 62/80\n",
            "624/624 [==============================] - 1s 1ms/step - loss: 0.0053 - val_loss: 0.0214\n",
            "Epoch 63/80\n",
            "624/624 [==============================] - 1s 1ms/step - loss: 0.0052 - val_loss: 0.0203\n",
            "Epoch 64/80\n",
            "624/624 [==============================] - 1s 1ms/step - loss: 0.0051 - val_loss: 0.0205\n",
            "Epoch 65/80\n",
            "624/624 [==============================] - 1s 1ms/step - loss: 0.0052 - val_loss: 0.0204\n",
            "Epoch 66/80\n",
            "624/624 [==============================] - 1s 1ms/step - loss: 0.0050 - val_loss: 0.0197\n",
            "Epoch 67/80\n",
            "624/624 [==============================] - 1s 1ms/step - loss: 0.0051 - val_loss: 0.0218\n",
            "Epoch 68/80\n",
            "624/624 [==============================] - 1s 1ms/step - loss: 0.0052 - val_loss: 0.0306\n",
            "Epoch 69/80\n",
            "624/624 [==============================] - 1s 1ms/step - loss: 0.0051 - val_loss: 0.0206\n",
            "Epoch 70/80\n",
            "624/624 [==============================] - 1s 1ms/step - loss: 0.0055 - val_loss: 0.0252\n",
            "Epoch 71/80\n",
            "624/624 [==============================] - 1s 1ms/step - loss: 0.0053 - val_loss: 0.0205\n",
            "Epoch 72/80\n",
            "624/624 [==============================] - 1s 1ms/step - loss: 0.0051 - val_loss: 0.0197\n",
            "Epoch 73/80\n",
            "624/624 [==============================] - 1s 1ms/step - loss: 0.0051 - val_loss: 0.0228\n",
            "Epoch 74/80\n",
            "624/624 [==============================] - 1s 1ms/step - loss: 0.0051 - val_loss: 0.0214\n",
            "Epoch 75/80\n",
            "624/624 [==============================] - 1s 993us/step - loss: 0.0051 - val_loss: 0.0221\n",
            "Epoch 76/80\n",
            "624/624 [==============================] - 1s 1ms/step - loss: 0.0050 - val_loss: 0.0221\n",
            "Epoch 77/80\n",
            "624/624 [==============================] - 1s 1ms/step - loss: 0.0051 - val_loss: 0.0195\n",
            "Epoch 78/80\n",
            "624/624 [==============================] - 1s 1ms/step - loss: 0.0052 - val_loss: 0.0202\n",
            "Epoch 79/80\n",
            "624/624 [==============================] - 1s 1ms/step - loss: 0.0056 - val_loss: 0.0405\n",
            "Epoch 80/80\n",
            "624/624 [==============================] - 1s 1ms/step - loss: 0.0053 - val_loss: 0.0218\n"
          ],
          "name": "stdout"
        }
      ]
    },
    {
      "cell_type": "code",
      "metadata": {
        "id": "3rW1u_RzV6A9",
        "colab": {
          "base_uri": "https://localhost:8080/",
          "height": 269
        },
        "outputId": "3527e505-2f70-4273-e4bf-2c00fd576635"
      },
      "source": [
        "# Plot loss per iteration\n",
        "plt.plot(r.history['loss'], label='loss')\n",
        "plt.plot(r.history['val_loss'], label='val_loss')\n",
        "plt.legend()\n",
        "plt.show()"
      ],
      "execution_count": null,
      "outputs": [
        {
          "output_type": "display_data",
          "data": {
            "image/png": "[encoded data removed]",
            "text/plain": [
              "<Figure size 432x288 with 1 Axes>"
            ]
          },
          "metadata": {
            "tags": []
          }
        }
      ]
    },
    {
      "cell_type": "code",
      "metadata": {
        "id": "qJqNWBYYWE7f"
      },
      "source": [
        "# Make predictions\n",
        "Ptrain = model.predict(Xtrain)\n",
        "Ptest = model.predict(Xtest)"
      ],
      "execution_count": null,
      "outputs": []
    },
    {
      "cell_type": "code",
      "metadata": {
        "id": "uiq9hZ5KWN-w"
      },
      "source": [
        "# inverse transform\n",
        "Ytrain2 = scaler.inverse_transform(Ytrain.reshape(-1, 1)).flatten()\n",
        "Ytest2 = scaler.inverse_transform(Ytest.reshape(-1, 1)).flatten()\n",
        "Ptrain2 = scaler.inverse_transform(Ptrain.reshape(-1, 1)).flatten()\n",
        "Ptest2 = scaler.inverse_transform(Ptest.reshape(-1, 1)).flatten()"
      ],
      "execution_count": null,
      "outputs": []
    },
    {
      "cell_type": "code",
      "metadata": {
        "id": "RbGYAabCWK9b",
        "colab": {
          "base_uri": "https://localhost:8080/",
          "height": 51
        },
        "outputId": "c46a808a-0834-4c90-9076-98f584b9de9f"
      },
      "source": [
        "# Print the MAE\n",
        "print(\"lstm train mae:\", mae(Ytrain2, Ptrain2))\n",
        "print(\"lstm test mae:\", mae(Ytest2, Ptest2))"
      ],
      "execution_count": null,
      "outputs": [
        {
          "output_type": "stream",
          "text": [
            "lstm train mae: 0.3534254822853285\n",
            "lstm test mae: 0.7378289543457031\n"
          ],
          "name": "stdout"
        }
      ]
    },
    {
      "cell_type": "code",
      "metadata": {
        "id": "OqQdKUznWQih",
        "colab": {
          "base_uri": "https://localhost:8080/",
          "height": 281
        },
        "outputId": "6e48d9ac-5063-4d87-8474-ad72da833b82"
      },
      "source": [
        "# wrong forecast\n",
        "plt.plot(Ytest, label='target')\n",
        "plt.plot(Ptest, label='prediction')\n",
        "plt.legend()\n",
        "plt.title(\"Wrong forecast\")\n",
        "plt.show()"
      ],
      "execution_count": null,
      "outputs": [
        {
          "output_type": "display_data",
          "data": {
            "image/png": "[encoded data removed]",
            "text/plain": [
              "<Figure size 432x288 with 1 Axes>"
            ]
          },
          "metadata": {
            "tags": []
          }
        }
      ]
    },
    {
      "cell_type": "code",
      "metadata": {
        "id": "pn5xOXbQWj2o",
        "colab": {
          "base_uri": "https://localhost:8080/",
          "height": 281
        },
        "outputId": "3bb464ed-9e52-4198-ae3d-4ae639289741"
      },
      "source": [
        "# right forecast\n",
        "forecast = []\n",
        "input_ = Xtest[0]\n",
        "while len(forecast) < len(Ytest):\n",
        "  f = model.predict(input_.reshape(1, T, 1))[0,0]\n",
        "  forecast.append(f)\n",
        "\n",
        "  # make a new input with the latest forecast\n",
        "  input_ = np.roll(input_, -1)\n",
        "  input_[-1] = f\n",
        "plt.plot(Ytest, label='target')\n",
        "plt.plot(forecast, label='prediction')\n",
        "plt.legend()\n",
        "plt.title(\"Right forecast\")\n",
        "plt.show()"
      ],
      "execution_count": null,
      "outputs": [
        {
          "output_type": "display_data",
          "data": {
            "image/png": "[encoded data removed]",
            "text/plain": [
              "<Figure size 432x288 with 1 Axes>"
            ]
          },
          "metadata": {
            "tags": []
          }
        }
      ]
    }
  ]
}
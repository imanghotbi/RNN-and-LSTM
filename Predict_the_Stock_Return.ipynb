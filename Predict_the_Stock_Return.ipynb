{
  "nbformat": 4,
  "nbformat_minor": 0,
  "metadata": {
    "colab": {
      "provenance": []
    },
    "kernelspec": {
      "name": "python3",
      "display_name": "Python 3"
    },
    "accelerator": "GPU"
  },
  "cells": [
    {
      "cell_type": "code",
      "metadata": {
        "id": "X9YzktsAW2lc",
        "colab": {
          "base_uri": "https://localhost:8080/",
          "height": 34
        },
        "outputId": "cbb85b0d-bd78-423b-9f19-bd353bd965cc"
      },
      "source": [
        "import numpy as np\n",
        "import pandas as pd\n",
        "import matplotlib.pyplot as plt\n",
        "from sklearn.metrics import mean_absolute_error as mae\n",
        "from sklearn.preprocessing import StandardScaler\n",
        "\n",
        "from keras.models import Model\n",
        "from keras.layers import Input, LSTM, GRU, SimpleRNN, Dense\n",
        "import keras.backend as K\n",
        "from keras.optimizers import SGD, Adam"
      ],
      "execution_count": null,
      "outputs": [
        {
          "output_type": "stream",
          "text": [
            "Using TensorFlow backend.\n"
          ],
          "name": "stderr"
        }
      ]
    },
    {
      "cell_type": "code",
      "metadata": {
        "id": "mscN_fb4XsQ4"
      },
      "source": [
        "# get the data\n",
        "df = pd.read_csv('https://raw.githubusercontent.com/lazyprogrammer/machine_learning_examples/master/tf2.0/sbux.csv')"
      ],
      "execution_count": null,
      "outputs": []
    },
    {
      "cell_type": "code",
      "metadata": {
        "id": "oJBUa1oZXuMM",
        "colab": {
          "base_uri": "https://localhost:8080/",
          "height": 204
        },
        "outputId": "d94e1c25-0e5e-4f34-a4ed-dceb905d6e7f"
      },
      "source": [
        "df.head()"
      ],
      "execution_count": null,
      "outputs": [
        {
          "output_type": "execute_result",
          "data": {
            "text/html": [
              "<div>\n",
              "<style scoped>\n",
              "    .dataframe tbody tr th:only-of-type {\n",
              "        vertical-align: middle;\n",
              "    }\n",
              "\n",
              "    .dataframe tbody tr th {\n",
              "        vertical-align: top;\n",
              "    }\n",
              "\n",
              "    .dataframe thead th {\n",
              "        text-align: right;\n",
              "    }\n",
              "</style>\n",
              "<table border=\"1\" class=\"dataframe\">\n",
              "  <thead>\n",
              "    <tr style=\"text-align: right;\">\n",
              "      <th></th>\n",
              "      <th>date</th>\n",
              "      <th>open</th>\n",
              "      <th>high</th>\n",
              "      <th>low</th>\n",
              "      <th>close</th>\n",
              "      <th>volume</th>\n",
              "      <th>Name</th>\n",
              "    </tr>\n",
              "  </thead>\n",
              "  <tbody>\n",
              "    <tr>\n",
              "      <th>0</th>\n",
              "      <td>2013-02-08</td>\n",
              "      <td>27.920</td>\n",
              "      <td>28.325</td>\n",
              "      <td>27.920</td>\n",
              "      <td>28.185</td>\n",
              "      <td>7146296</td>\n",
              "      <td>SBUX</td>\n",
              "    </tr>\n",
              "    <tr>\n",
              "      <th>1</th>\n",
              "      <td>2013-02-11</td>\n",
              "      <td>28.260</td>\n",
              "      <td>28.260</td>\n",
              "      <td>27.930</td>\n",
              "      <td>28.070</td>\n",
              "      <td>5457354</td>\n",
              "      <td>SBUX</td>\n",
              "    </tr>\n",
              "    <tr>\n",
              "      <th>2</th>\n",
              "      <td>2013-02-12</td>\n",
              "      <td>28.000</td>\n",
              "      <td>28.275</td>\n",
              "      <td>27.975</td>\n",
              "      <td>28.130</td>\n",
              "      <td>8665592</td>\n",
              "      <td>SBUX</td>\n",
              "    </tr>\n",
              "    <tr>\n",
              "      <th>3</th>\n",
              "      <td>2013-02-13</td>\n",
              "      <td>28.230</td>\n",
              "      <td>28.230</td>\n",
              "      <td>27.750</td>\n",
              "      <td>27.915</td>\n",
              "      <td>7022056</td>\n",
              "      <td>SBUX</td>\n",
              "    </tr>\n",
              "    <tr>\n",
              "      <th>4</th>\n",
              "      <td>2013-02-14</td>\n",
              "      <td>27.765</td>\n",
              "      <td>27.905</td>\n",
              "      <td>27.675</td>\n",
              "      <td>27.775</td>\n",
              "      <td>8899188</td>\n",
              "      <td>SBUX</td>\n",
              "    </tr>\n",
              "  </tbody>\n",
              "</table>\n",
              "</div>"
            ],
            "text/plain": [
              "         date    open    high     low   close   volume  Name\n",
              "0  2013-02-08  27.920  28.325  27.920  28.185  7146296  SBUX\n",
              "1  2013-02-11  28.260  28.260  27.930  28.070  5457354  SBUX\n",
              "2  2013-02-12  28.000  28.275  27.975  28.130  8665592  SBUX\n",
              "3  2013-02-13  28.230  28.230  27.750  27.915  7022056  SBUX\n",
              "4  2013-02-14  27.765  27.905  27.675  27.775  8899188  SBUX"
            ]
          },
          "metadata": {
            "tags": []
          },
          "execution_count": 3
        }
      ]
    },
    {
      "cell_type": "code",
      "metadata": {
        "id": "K5j9LdjiXy_a"
      },
      "source": [
        "# calculate returns by first shifting the data\n",
        "df['PrevClose'] = df['close'].shift(1) # move everything up 1\n",
        "\n",
        "# so now it's like\n",
        "# close / prev close\n",
        "# x[2] x[1]\n",
        "# x[3] x[2]\n",
        "# x[4] x[3]\n",
        "# ...\n",
        "# x[t] x[t-1]"
      ],
      "execution_count": null,
      "outputs": []
    },
    {
      "cell_type": "code",
      "metadata": {
        "id": "7miYgc2-XzlG",
        "colab": {
          "base_uri": "https://localhost:8080/",
          "height": 204
        },
        "outputId": "2875cd7d-a6f3-4f24-ce75-c629d1418b47"
      },
      "source": [
        "df.head()"
      ],
      "execution_count": null,
      "outputs": [
        {
          "output_type": "execute_result",
          "data": {
            "text/html": [
              "<div>\n",
              "<style scoped>\n",
              "    .dataframe tbody tr th:only-of-type {\n",
              "        vertical-align: middle;\n",
              "    }\n",
              "\n",
              "    .dataframe tbody tr th {\n",
              "        vertical-align: top;\n",
              "    }\n",
              "\n",
              "    .dataframe thead th {\n",
              "        text-align: right;\n",
              "    }\n",
              "</style>\n",
              "<table border=\"1\" class=\"dataframe\">\n",
              "  <thead>\n",
              "    <tr style=\"text-align: right;\">\n",
              "      <th></th>\n",
              "      <th>date</th>\n",
              "      <th>open</th>\n",
              "      <th>high</th>\n",
              "      <th>low</th>\n",
              "      <th>close</th>\n",
              "      <th>volume</th>\n",
              "      <th>Name</th>\n",
              "      <th>PrevClose</th>\n",
              "    </tr>\n",
              "  </thead>\n",
              "  <tbody>\n",
              "    <tr>\n",
              "      <th>0</th>\n",
              "      <td>2013-02-08</td>\n",
              "      <td>27.920</td>\n",
              "      <td>28.325</td>\n",
              "      <td>27.920</td>\n",
              "      <td>28.185</td>\n",
              "      <td>7146296</td>\n",
              "      <td>SBUX</td>\n",
              "      <td>NaN</td>\n",
              "    </tr>\n",
              "    <tr>\n",
              "      <th>1</th>\n",
              "      <td>2013-02-11</td>\n",
              "      <td>28.260</td>\n",
              "      <td>28.260</td>\n",
              "      <td>27.930</td>\n",
              "      <td>28.070</td>\n",
              "      <td>5457354</td>\n",
              "      <td>SBUX</td>\n",
              "      <td>28.185</td>\n",
              "    </tr>\n",
              "    <tr>\n",
              "      <th>2</th>\n",
              "      <td>2013-02-12</td>\n",
              "      <td>28.000</td>\n",
              "      <td>28.275</td>\n",
              "      <td>27.975</td>\n",
              "      <td>28.130</td>\n",
              "      <td>8665592</td>\n",
              "      <td>SBUX</td>\n",
              "      <td>28.070</td>\n",
              "    </tr>\n",
              "    <tr>\n",
              "      <th>3</th>\n",
              "      <td>2013-02-13</td>\n",
              "      <td>28.230</td>\n",
              "      <td>28.230</td>\n",
              "      <td>27.750</td>\n",
              "      <td>27.915</td>\n",
              "      <td>7022056</td>\n",
              "      <td>SBUX</td>\n",
              "      <td>28.130</td>\n",
              "    </tr>\n",
              "    <tr>\n",
              "      <th>4</th>\n",
              "      <td>2013-02-14</td>\n",
              "      <td>27.765</td>\n",
              "      <td>27.905</td>\n",
              "      <td>27.675</td>\n",
              "      <td>27.775</td>\n",
              "      <td>8899188</td>\n",
              "      <td>SBUX</td>\n",
              "      <td>27.915</td>\n",
              "    </tr>\n",
              "  </tbody>\n",
              "</table>\n",
              "</div>"
            ],
            "text/plain": [
              "         date    open    high     low   close   volume  Name  PrevClose\n",
              "0  2013-02-08  27.920  28.325  27.920  28.185  7146296  SBUX        NaN\n",
              "1  2013-02-11  28.260  28.260  27.930  28.070  5457354  SBUX     28.185\n",
              "2  2013-02-12  28.000  28.275  27.975  28.130  8665592  SBUX     28.070\n",
              "3  2013-02-13  28.230  28.230  27.750  27.915  7022056  SBUX     28.130\n",
              "4  2013-02-14  27.765  27.905  27.675  27.775  8899188  SBUX     27.915"
            ]
          },
          "metadata": {
            "tags": []
          },
          "execution_count": 5
        }
      ]
    },
    {
      "cell_type": "code",
      "metadata": {
        "id": "ndvZ9xjzX1AY"
      },
      "source": [
        "# then the return is\n",
        "# (x[t] - x[t-1]) / x[t-1]\n",
        "df['Return'] = (df['close'] - df['PrevClose']) / df['PrevClose']"
      ],
      "execution_count": null,
      "outputs": []
    },
    {
      "cell_type": "code",
      "metadata": {
        "id": "8Ab7CMV6X4ed",
        "colab": {
          "base_uri": "https://localhost:8080/",
          "height": 204
        },
        "outputId": "24a55f66-04b8-4e3d-b8e0-37d671ab3dd8"
      },
      "source": [
        "df.head()"
      ],
      "execution_count": null,
      "outputs": [
        {
          "output_type": "execute_result",
          "data": {
            "text/html": [
              "<div>\n",
              "<style scoped>\n",
              "    .dataframe tbody tr th:only-of-type {\n",
              "        vertical-align: middle;\n",
              "    }\n",
              "\n",
              "    .dataframe tbody tr th {\n",
              "        vertical-align: top;\n",
              "    }\n",
              "\n",
              "    .dataframe thead th {\n",
              "        text-align: right;\n",
              "    }\n",
              "</style>\n",
              "<table border=\"1\" class=\"dataframe\">\n",
              "  <thead>\n",
              "    <tr style=\"text-align: right;\">\n",
              "      <th></th>\n",
              "      <th>date</th>\n",
              "      <th>open</th>\n",
              "      <th>high</th>\n",
              "      <th>low</th>\n",
              "      <th>close</th>\n",
              "      <th>volume</th>\n",
              "      <th>Name</th>\n",
              "      <th>PrevClose</th>\n",
              "      <th>Return</th>\n",
              "    </tr>\n",
              "  </thead>\n",
              "  <tbody>\n",
              "    <tr>\n",
              "      <th>0</th>\n",
              "      <td>2013-02-08</td>\n",
              "      <td>27.920</td>\n",
              "      <td>28.325</td>\n",
              "      <td>27.920</td>\n",
              "      <td>28.185</td>\n",
              "      <td>7146296</td>\n",
              "      <td>SBUX</td>\n",
              "      <td>NaN</td>\n",
              "      <td>NaN</td>\n",
              "    </tr>\n",
              "    <tr>\n",
              "      <th>1</th>\n",
              "      <td>2013-02-11</td>\n",
              "      <td>28.260</td>\n",
              "      <td>28.260</td>\n",
              "      <td>27.930</td>\n",
              "      <td>28.070</td>\n",
              "      <td>5457354</td>\n",
              "      <td>SBUX</td>\n",
              "      <td>28.185</td>\n",
              "      <td>-0.004080</td>\n",
              "    </tr>\n",
              "    <tr>\n",
              "      <th>2</th>\n",
              "      <td>2013-02-12</td>\n",
              "      <td>28.000</td>\n",
              "      <td>28.275</td>\n",
              "      <td>27.975</td>\n",
              "      <td>28.130</td>\n",
              "      <td>8665592</td>\n",
              "      <td>SBUX</td>\n",
              "      <td>28.070</td>\n",
              "      <td>0.002138</td>\n",
              "    </tr>\n",
              "    <tr>\n",
              "      <th>3</th>\n",
              "      <td>2013-02-13</td>\n",
              "      <td>28.230</td>\n",
              "      <td>28.230</td>\n",
              "      <td>27.750</td>\n",
              "      <td>27.915</td>\n",
              "      <td>7022056</td>\n",
              "      <td>SBUX</td>\n",
              "      <td>28.130</td>\n",
              "      <td>-0.007643</td>\n",
              "    </tr>\n",
              "    <tr>\n",
              "      <th>4</th>\n",
              "      <td>2013-02-14</td>\n",
              "      <td>27.765</td>\n",
              "      <td>27.905</td>\n",
              "      <td>27.675</td>\n",
              "      <td>27.775</td>\n",
              "      <td>8899188</td>\n",
              "      <td>SBUX</td>\n",
              "      <td>27.915</td>\n",
              "      <td>-0.005015</td>\n",
              "    </tr>\n",
              "  </tbody>\n",
              "</table>\n",
              "</div>"
            ],
            "text/plain": [
              "         date    open    high     low  ...   volume  Name PrevClose    Return\n",
              "0  2013-02-08  27.920  28.325  27.920  ...  7146296  SBUX       NaN       NaN\n",
              "1  2013-02-11  28.260  28.260  27.930  ...  5457354  SBUX    28.185 -0.004080\n",
              "2  2013-02-12  28.000  28.275  27.975  ...  8665592  SBUX    28.070  0.002138\n",
              "3  2013-02-13  28.230  28.230  27.750  ...  7022056  SBUX    28.130 -0.007643\n",
              "4  2013-02-14  27.765  27.905  27.675  ...  8899188  SBUX    27.915 -0.005015\n",
              "\n",
              "[5 rows x 9 columns]"
            ]
          },
          "metadata": {
            "tags": []
          },
          "execution_count": 7
        }
      ]
    },
    {
      "cell_type": "code",
      "metadata": {
        "id": "cd_cLvTDX5oZ",
        "colab": {
          "base_uri": "https://localhost:8080/",
          "height": 269
        },
        "outputId": "7c98e410-df83-44a7-90fe-126ce2fc1e3c"
      },
      "source": [
        "# See what the distribution is\n",
        "df['Return'].hist()\n",
        "plt.show()"
      ],
      "execution_count": null,
      "outputs": [
        {
          "output_type": "display_data",
          "data": {
            "image/png": "[encoded data removed]",
            "text/plain": [
              "<Figure size 432x288 with 1 Axes>"
            ]
          },
          "metadata": {
            "tags": []
          }
        }
      ]
    },
    {
      "cell_type": "code",
      "metadata": {
        "id": "UYySkRqBX85w"
      },
      "source": [
        "# Get the returns as a Numpy array\n",
        "series = df['Return'].values[1:].reshape(-1, 1)"
      ],
      "execution_count": null,
      "outputs": []
    },
    {
      "cell_type": "code",
      "metadata": {
        "id": "33LlQisYX-7k"
      },
      "source": [
        "# Normalize the data\n",
        "# Note: I didn't think about where the true boundary is, this is just approx.\n",
        "scaler = StandardScaler()\n",
        "scaler.fit(series[:len(series) // 2])\n",
        "series = scaler.transform(series).flatten()"
      ],
      "execution_count": null,
      "outputs": []
    },
    {
      "cell_type": "code",
      "metadata": {
        "id": "pZkEioPDYCEk",
        "colab": {
          "base_uri": "https://localhost:8080/",
          "height": 269
        },
        "outputId": "239dfc66-b104-40be-929e-48a028013388"
      },
      "source": [
        "# plot it\n",
        "plt.plot(series)\n",
        "plt.show()"
      ],
      "execution_count": null,
      "outputs": [
        {
          "output_type": "display_data",
          "data": {
            "image/png": "[encoded data removed]",
            "text/plain": [
              "<Figure size 432x288 with 1 Axes>"
            ]
          },
          "metadata": {
            "tags": []
          }
        }
      ]
    },
    {
      "cell_type": "code",
      "metadata": {
        "id": "4N0KuftFYCwT",
        "colab": {
          "base_uri": "https://localhost:8080/",
          "height": 34
        },
        "outputId": "a2bf2290-8a29-476c-e072-d7007a480e03"
      },
      "source": [
        "### build the dataset\n",
        "# let's see if we can use T past values to predict the next value\n",
        "T = 10\n",
        "D = 1\n",
        "X = []\n",
        "Y = []\n",
        "for t in range(len(series) - T):\n",
        "  x = series[t:t+T]\n",
        "  X.append(x)\n",
        "  y = series[t+T]\n",
        "  Y.append(y)\n",
        "\n",
        "X = np.array(X).reshape(-1, T, 1)\n",
        "Y = np.array(Y)\n",
        "N = len(X)\n",
        "print(\"X.shape\", X.shape, \"Y.shape\", Y.shape)"
      ],
      "execution_count": null,
      "outputs": [
        {
          "output_type": "stream",
          "text": [
            "X.shape (1248, 10, 1) Y.shape (1248,)\n"
          ],
          "name": "stdout"
        }
      ]
    },
    {
      "cell_type": "code",
      "metadata": {
        "id": "NmLXpvXQYQHd"
      },
      "source": [
        "# split into train and test\n",
        "Xtrain, Ytrain = X[:-N//2], Y[:-N//2]\n",
        "Xtest, Ytest = X[-N//2:], Y[-N//2:]"
      ],
      "execution_count": null,
      "outputs": []
    },
    {
      "cell_type": "code",
      "metadata": {
        "id": "ULNhfuM-YEy_",
        "colab": {
          "base_uri": "https://localhost:8080/",
          "height": 190
        },
        "outputId": "300e92e3-2b84-476a-f2a2-d53e8d6d0eb7"
      },
      "source": [
        "### try autoregressive RNN model\n",
        "i = Input(shape=(T, 1))\n",
        "x = LSTM(5)(i)\n",
        "x = Dense(1)(x)\n",
        "model = Model(i, x)\n",
        "model.compile(\n",
        "  loss='mse',\n",
        "  optimizer=Adam(lr=0.1),\n",
        ")"
      ],
      "execution_count": null,
      "outputs": [
        {
          "output_type": "stream",
          "text": [
            "WARNING: Logging before flag parsing goes to stderr.\n",
            "W0818 20:17:13.111192 140151673907072 deprecation_wrapper.py:119] From /usr/local/lib/python3.6/dist-packages/keras/backend/tensorflow_backend.py:74: The name tf.get_default_graph is deprecated. Please use tf.compat.v1.get_default_graph instead.\n",
            "\n",
            "W0818 20:17:13.136461 140151673907072 deprecation_wrapper.py:119] From /usr/local/lib/python3.6/dist-packages/keras/backend/tensorflow_backend.py:517: The name tf.placeholder is deprecated. Please use tf.compat.v1.placeholder instead.\n",
            "\n",
            "W0818 20:17:13.141320 140151673907072 deprecation_wrapper.py:119] From /usr/local/lib/python3.6/dist-packages/keras/backend/tensorflow_backend.py:4138: The name tf.random_uniform is deprecated. Please use tf.random.uniform instead.\n",
            "\n",
            "W0818 20:17:13.389839 140151673907072 deprecation_wrapper.py:119] From /usr/local/lib/python3.6/dist-packages/keras/optimizers.py:790: The name tf.train.Optimizer is deprecated. Please use tf.compat.v1.train.Optimizer instead.\n",
            "\n"
          ],
          "name": "stderr"
        }
      ]
    },
    {
      "cell_type": "code",
      "metadata": {
        "id": "mLWPEuMfYHOP",
        "colab": {
          "base_uri": "https://localhost:8080/",
          "height": 1000
        },
        "outputId": "5b371440-573b-437b-d1c6-1033e174528d"
      },
      "source": [
        "# train the RNN\n",
        "r = model.fit(\n",
        "  Xtrain, Ytrain,\n",
        "  epochs=80,\n",
        "  validation_data=(Xtest, Ytest),\n",
        ")"
      ],
      "execution_count": null,
      "outputs": [
        {
          "output_type": "stream",
          "text": [
            "W0818 20:17:58.118695 140151673907072 deprecation.py:323] From /usr/local/lib/python3.6/dist-packages/tensorflow/python/ops/math_grad.py:1250: add_dispatch_support.<locals>.wrapper (from tensorflow.python.ops.array_ops) is deprecated and will be removed in a future version.\n",
            "Instructions for updating:\n",
            "Use tf.where in 2.0, which has the same broadcast rule as np.where\n",
            "W0818 20:17:58.862844 140151673907072 deprecation_wrapper.py:119] From /usr/local/lib/python3.6/dist-packages/keras/backend/tensorflow_backend.py:986: The name tf.assign_add is deprecated. Please use tf.compat.v1.assign_add instead.\n",
            "\n",
            "W0818 20:17:58.950287 140151673907072 deprecation_wrapper.py:119] From /usr/local/lib/python3.6/dist-packages/keras/backend/tensorflow_backend.py:973: The name tf.assign is deprecated. Please use tf.compat.v1.assign instead.\n",
            "\n"
          ],
          "name": "stderr"
        },
        {
          "output_type": "stream",
          "text": [
            "Train on 624 samples, validate on 624 samples\n",
            "Epoch 1/80\n",
            "624/624 [==============================] - 2s 3ms/step - loss: 1.0161 - val_loss: 1.1678\n",
            "Epoch 2/80\n",
            "624/624 [==============================] - 1s 1ms/step - loss: 0.9938 - val_loss: 1.1753\n",
            "Epoch 3/80\n",
            "624/624 [==============================] - 1s 996us/step - loss: 0.9943 - val_loss: 1.1596\n",
            "Epoch 4/80\n",
            "624/624 [==============================] - 1s 1ms/step - loss: 0.9917 - val_loss: 1.1434\n",
            "Epoch 5/80\n",
            "624/624 [==============================] - 1s 1ms/step - loss: 0.9965 - val_loss: 1.1580\n",
            "Epoch 6/80\n",
            "624/624 [==============================] - 1s 984us/step - loss: 0.9857 - val_loss: 1.1619\n",
            "Epoch 7/80\n",
            "624/624 [==============================] - 1s 1ms/step - loss: 0.9858 - val_loss: 1.1763\n",
            "Epoch 8/80\n",
            "624/624 [==============================] - 1s 1ms/step - loss: 0.9831 - val_loss: 1.1666\n",
            "Epoch 9/80\n",
            "624/624 [==============================] - 1s 978us/step - loss: 0.9826 - val_loss: 1.1626\n",
            "Epoch 10/80\n",
            "624/624 [==============================] - 1s 1ms/step - loss: 0.9870 - val_loss: 1.1899\n",
            "Epoch 11/80\n",
            "624/624 [==============================] - 1s 981us/step - loss: 0.9772 - val_loss: 1.1588\n",
            "Epoch 12/80\n",
            "624/624 [==============================] - 1s 1ms/step - loss: 1.0011 - val_loss: 1.1522\n",
            "Epoch 13/80\n",
            "624/624 [==============================] - 1s 1ms/step - loss: 0.9810 - val_loss: 1.1780\n",
            "Epoch 14/80\n",
            "624/624 [==============================] - 1s 982us/step - loss: 0.9701 - val_loss: 1.2324\n",
            "Epoch 15/80\n",
            "624/624 [==============================] - 1s 1ms/step - loss: 0.9852 - val_loss: 1.1686\n",
            "Epoch 16/80\n",
            "624/624 [==============================] - 1s 989us/step - loss: 0.9512 - val_loss: 1.2556\n",
            "Epoch 17/80\n",
            "624/624 [==============================] - 1s 1ms/step - loss: 0.9773 - val_loss: 1.2813\n",
            "Epoch 18/80\n",
            "624/624 [==============================] - 1s 1ms/step - loss: 0.9750 - val_loss: 1.1901\n",
            "Epoch 19/80\n",
            "624/624 [==============================] - 1s 999us/step - loss: 0.9763 - val_loss: 1.2972\n",
            "Epoch 20/80\n",
            "624/624 [==============================] - 1s 1ms/step - loss: 0.9808 - val_loss: 1.1726\n",
            "Epoch 21/80\n",
            "624/624 [==============================] - 1s 982us/step - loss: 0.9581 - val_loss: 1.1975\n",
            "Epoch 22/80\n",
            "624/624 [==============================] - 1s 1ms/step - loss: 0.9668 - val_loss: 1.1903\n",
            "Epoch 23/80\n",
            "624/624 [==============================] - 1s 1ms/step - loss: 0.9771 - val_loss: 1.2536\n",
            "Epoch 24/80\n",
            "624/624 [==============================] - 1s 982us/step - loss: 0.9488 - val_loss: 1.2300\n",
            "Epoch 25/80\n",
            "624/624 [==============================] - 1s 1ms/step - loss: 0.9544 - val_loss: 1.1994\n",
            "Epoch 26/80\n",
            "624/624 [==============================] - 1s 991us/step - loss: 0.9647 - val_loss: 1.1590\n",
            "Epoch 27/80\n",
            "624/624 [==============================] - 1s 1ms/step - loss: 0.9671 - val_loss: 1.1462\n",
            "Epoch 28/80\n",
            "624/624 [==============================] - 1s 1ms/step - loss: 0.9739 - val_loss: 1.2011\n",
            "Epoch 29/80\n",
            "624/624 [==============================] - 1s 983us/step - loss: 0.9414 - val_loss: 1.2524\n",
            "Epoch 30/80\n",
            "624/624 [==============================] - 1s 1ms/step - loss: 0.9715 - val_loss: 1.2838\n",
            "Epoch 31/80\n",
            "624/624 [==============================] - 1s 1ms/step - loss: 0.9764 - val_loss: 1.2101\n",
            "Epoch 32/80\n",
            "624/624 [==============================] - 1s 1ms/step - loss: 0.9349 - val_loss: 1.1773\n",
            "Epoch 33/80\n",
            "624/624 [==============================] - 1s 1ms/step - loss: 0.9628 - val_loss: 1.2116\n",
            "Epoch 34/80\n",
            "624/624 [==============================] - 1s 1ms/step - loss: 0.9392 - val_loss: 1.1528\n",
            "Epoch 35/80\n",
            "624/624 [==============================] - 1s 1ms/step - loss: 0.9494 - val_loss: 1.2845\n",
            "Epoch 36/80\n",
            "624/624 [==============================] - 1s 990us/step - loss: 0.9527 - val_loss: 1.1532\n",
            "Epoch 37/80\n",
            "624/624 [==============================] - 1s 1ms/step - loss: 0.9630 - val_loss: 1.1731\n",
            "Epoch 38/80\n",
            "624/624 [==============================] - 1s 1ms/step - loss: 0.9468 - val_loss: 1.2264\n",
            "Epoch 39/80\n",
            "624/624 [==============================] - 1s 1ms/step - loss: 0.9430 - val_loss: 1.2656\n",
            "Epoch 40/80\n",
            "624/624 [==============================] - 1s 1ms/step - loss: 0.9340 - val_loss: 1.2514\n",
            "Epoch 41/80\n",
            "624/624 [==============================] - 1s 1ms/step - loss: 0.9120 - val_loss: 1.2030\n",
            "Epoch 42/80\n",
            "624/624 [==============================] - 1s 990us/step - loss: 0.9247 - val_loss: 1.2256\n",
            "Epoch 43/80\n",
            "624/624 [==============================] - 1s 1ms/step - loss: 0.9093 - val_loss: 1.2317\n",
            "Epoch 44/80\n",
            "624/624 [==============================] - 1s 1ms/step - loss: 0.9051 - val_loss: 1.2368\n",
            "Epoch 45/80\n",
            "624/624 [==============================] - 1s 1ms/step - loss: 0.9098 - val_loss: 1.1864\n",
            "Epoch 46/80\n",
            "624/624 [==============================] - 1s 1ms/step - loss: 0.9204 - val_loss: 1.2017\n",
            "Epoch 47/80\n",
            "624/624 [==============================] - 1s 986us/step - loss: 0.9129 - val_loss: 1.2342\n",
            "Epoch 48/80\n",
            "624/624 [==============================] - 1s 1ms/step - loss: 0.9185 - val_loss: 1.2250\n",
            "Epoch 49/80\n",
            "624/624 [==============================] - 1s 1ms/step - loss: 0.8989 - val_loss: 1.2714\n",
            "Epoch 50/80\n",
            "624/624 [==============================] - 1s 1ms/step - loss: 0.9298 - val_loss: 1.2310\n",
            "Epoch 51/80\n",
            "624/624 [==============================] - 1s 1ms/step - loss: 0.9282 - val_loss: 1.2052\n",
            "Epoch 52/80\n",
            "624/624 [==============================] - 1s 1ms/step - loss: 0.8836 - val_loss: 1.2280\n",
            "Epoch 53/80\n",
            "624/624 [==============================] - 1s 1ms/step - loss: 0.8956 - val_loss: 1.2615\n",
            "Epoch 54/80\n",
            "624/624 [==============================] - 1s 1ms/step - loss: 0.8966 - val_loss: 1.2506\n",
            "Epoch 55/80\n",
            "624/624 [==============================] - 1s 1ms/step - loss: 0.9074 - val_loss: 1.2775\n",
            "Epoch 56/80\n",
            "624/624 [==============================] - 1s 1ms/step - loss: 0.9051 - val_loss: 1.2847\n",
            "Epoch 57/80\n",
            "624/624 [==============================] - 1s 995us/step - loss: 0.9575 - val_loss: 1.2014\n",
            "Epoch 58/80\n",
            "624/624 [==============================] - 1s 1ms/step - loss: 0.9561 - val_loss: 1.2219\n",
            "Epoch 59/80\n",
            "624/624 [==============================] - 1s 1ms/step - loss: 0.9285 - val_loss: 1.1934\n",
            "Epoch 60/80\n",
            "624/624 [==============================] - 1s 996us/step - loss: 0.9060 - val_loss: 1.2435\n",
            "Epoch 61/80\n",
            "624/624 [==============================] - 1s 1ms/step - loss: 0.9261 - val_loss: 1.2794\n",
            "Epoch 62/80\n",
            "624/624 [==============================] - 1s 1ms/step - loss: 0.9144 - val_loss: 1.2959\n",
            "Epoch 63/80\n",
            "624/624 [==============================] - 1s 1ms/step - loss: 0.9216 - val_loss: 1.2181\n",
            "Epoch 64/80\n",
            "624/624 [==============================] - 1s 1ms/step - loss: 0.9232 - val_loss: 1.2799\n",
            "Epoch 65/80\n",
            "624/624 [==============================] - 1s 989us/step - loss: 0.9352 - val_loss: 1.1686\n",
            "Epoch 66/80\n",
            "624/624 [==============================] - 1s 1ms/step - loss: 0.9141 - val_loss: 1.2593\n",
            "Epoch 67/80\n",
            "624/624 [==============================] - 1s 1ms/step - loss: 0.9332 - val_loss: 1.1995\n",
            "Epoch 68/80\n",
            "624/624 [==============================] - 1s 996us/step - loss: 0.9049 - val_loss: 1.2341\n",
            "Epoch 69/80\n",
            "624/624 [==============================] - 1s 1ms/step - loss: 0.9137 - val_loss: 1.2044\n",
            "Epoch 70/80\n",
            "624/624 [==============================] - 1s 1ms/step - loss: 0.8995 - val_loss: 1.2383\n",
            "Epoch 71/80\n",
            "624/624 [==============================] - 1s 1ms/step - loss: 0.9014 - val_loss: 1.2194\n",
            "Epoch 72/80\n",
            "624/624 [==============================] - 1s 999us/step - loss: 0.8994 - val_loss: 1.2197\n",
            "Epoch 73/80\n",
            "624/624 [==============================] - 1s 1ms/step - loss: 0.9114 - val_loss: 1.2353\n",
            "Epoch 74/80\n",
            "624/624 [==============================] - 1s 1ms/step - loss: 0.9019 - val_loss: 1.2347\n",
            "Epoch 75/80\n",
            "624/624 [==============================] - 1s 1ms/step - loss: 0.9038 - val_loss: 1.2990\n",
            "Epoch 76/80\n",
            "624/624 [==============================] - 1s 1ms/step - loss: 0.8988 - val_loss: 1.2571\n",
            "Epoch 77/80\n",
            "624/624 [==============================] - 1s 1ms/step - loss: 0.9097 - val_loss: 1.2643\n",
            "Epoch 78/80\n",
            "624/624 [==============================] - 1s 1ms/step - loss: 0.8908 - val_loss: 1.2859\n",
            "Epoch 79/80\n",
            "624/624 [==============================] - 1s 1ms/step - loss: 0.8975 - val_loss: 1.2637\n",
            "Epoch 80/80\n",
            "624/624 [==============================] - 1s 984us/step - loss: 0.8979 - val_loss: 1.1976\n"
          ],
          "name": "stdout"
        }
      ]
    },
    {
      "cell_type": "code",
      "metadata": {
        "id": "VQDK8z2MYVR5",
        "colab": {
          "base_uri": "https://localhost:8080/",
          "height": 269
        },
        "outputId": "04d16f52-58c4-4fc9-fccd-e7bc364a842c"
      },
      "source": [
        "# Plot loss per iteration\n",
        "plt.plot(r.history['loss'], label='loss')\n",
        "plt.plot(r.history['val_loss'], label='val_loss')\n",
        "plt.legend()\n",
        "plt.show()"
      ],
      "execution_count": null,
      "outputs": [
        {
          "output_type": "display_data",
          "data": {
            "image/png": "[encoded data removed]",
            "text/plain": [
              "<Figure size 432x288 with 1 Axes>"
            ]
          },
          "metadata": {
            "tags": []
          }
        }
      ]
    },
    {
      "cell_type": "code",
      "metadata": {
        "id": "BMuEntCvYivT"
      },
      "source": [
        "# Make Predictions\n",
        "Ptrain = model.predict(Xtrain)\n",
        "Ptest = model.predict(Xtest)"
      ],
      "execution_count": null,
      "outputs": []
    },
    {
      "cell_type": "code",
      "metadata": {
        "id": "Jt5GcdcbYX4b",
        "colab": {
          "base_uri": "https://localhost:8080/",
          "height": 281
        },
        "outputId": "479696b6-11bc-4e9d-b9c9-775fc96ab383"
      },
      "source": [
        "# wrong forecast\n",
        "plt.plot(Ytest, label='target')\n",
        "plt.plot(Ptest, label='prediction')\n",
        "plt.legend()\n",
        "plt.title(\"Wrong forecast\")\n",
        "plt.show()"
      ],
      "execution_count": null,
      "outputs": [
        {
          "output_type": "display_data",
          "data": {
            "image/png": "[encoded data removed]",
            "text/plain": [
              "<Figure size 432x288 with 1 Axes>"
            ]
          },
          "metadata": {
            "tags": []
          }
        }
      ]
    },
    {
      "cell_type": "code",
      "metadata": {
        "id": "BwDYM1PyYnEW",
        "colab": {
          "base_uri": "https://localhost:8080/",
          "height": 281
        },
        "outputId": "e519a34d-aa42-4c7d-efbf-0ae5b640bd72"
      },
      "source": [
        "# Zoom in:\n",
        "plt.plot(Ytest[:100], label='target')\n",
        "plt.plot(Ptest[:100], label='prediction')\n",
        "plt.legend()\n",
        "plt.title(\"Wrong forecast\")\n",
        "plt.show()"
      ],
      "execution_count": null,
      "outputs": [
        {
          "output_type": "display_data",
          "data": {
            "image/png": "[encoded data removed]",
            "text/plain": [
              "<Figure size 432x288 with 1 Axes>"
            ]
          },
          "metadata": {
            "tags": []
          }
        }
      ]
    },
    {
      "cell_type": "code",
      "metadata": {
        "id": "fuuH3UCeYZeo",
        "colab": {
          "base_uri": "https://localhost:8080/",
          "height": 281
        },
        "outputId": "b3f01887-5b41-48ec-f38f-6d6d744499ce"
      },
      "source": [
        "# right forecast\n",
        "forecast = []\n",
        "input_ = Xtest[0]\n",
        "while len(forecast) < len(Ytest):\n",
        "  f = model.predict(input_.reshape(1, T, 1))[0,0]\n",
        "  forecast.append(f)\n",
        "\n",
        "  # make a new input with the latest forecast\n",
        "  input_ = np.roll(input_, -1)\n",
        "  input_[-1] = f\n",
        "plt.plot(Ytest, label='target')\n",
        "plt.plot(forecast, label='prediction')\n",
        "plt.legend()\n",
        "plt.title(\"Right forecast\")\n",
        "plt.show()"
      ],
      "execution_count": null,
      "outputs": [
        {
          "output_type": "display_data",
          "data": {
            "image/png": "[encoded data removed]",
            "text/plain": [
              "<Figure size 432x288 with 1 Axes>"
            ]
          },
          "metadata": {
            "tags": []
          }
        }
      ]
    },
    {
      "cell_type": "code",
      "metadata": {
        "id": "hGim7wvSYcfo"
      },
      "source": [
        "# Note: there's no point in calculating the MAE here because the\n",
        "# scale is not comparable to the price"
      ],
      "execution_count": null,
      "outputs": []
    }
  ]
}